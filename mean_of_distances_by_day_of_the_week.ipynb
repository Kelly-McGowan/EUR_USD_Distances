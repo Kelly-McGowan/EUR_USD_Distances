{
 "cells": [
  {
   "cell_type": "code",
   "execution_count": 1,
   "metadata": {},
   "outputs": [],
   "source": [
    "# Import modules\n",
    "import pandas as pd\n"
   ]
  },
  {
   "cell_type": "code",
   "execution_count": 2,
   "metadata": {},
   "outputs": [],
   "source": [
    "# Import data\n",
    "raw = pd.read_csv(\"Data_EUR_USD.csv\")"
   ]
  },
  {
   "cell_type": "code",
   "execution_count": 3,
   "metadata": {},
   "outputs": [
    {
     "name": "stdout",
     "output_type": "stream",
     "text": [
      "                           Time     Open     High      Low    Close  Volume  \\\n",
      "0     2018-06-03 21:00:00+00:00  1.16591  1.17446  1.16591  1.16986   54201   \n",
      "1     2018-06-04 21:00:00+00:00  1.16969  1.17324  1.16525  1.17184   60668   \n",
      "2     2018-06-05 21:00:00+00:00  1.17129  1.17959  1.17124  1.17744   57923   \n",
      "3     2018-06-06 21:00:00+00:00  1.17752  1.18399  1.17727  1.17990   62212   \n",
      "4     2018-06-07 21:00:00+00:00  1.18014  1.18104  1.17270  1.17690   57780   \n",
      "...                         ...      ...      ...      ...      ...     ...   \n",
      "1537  2024-05-05 21:00:00+00:00  1.07642  1.07909  1.07552  1.07702   43391   \n",
      "1538  2024-05-06 21:00:00+00:00  1.07692  1.07874  1.07480  1.07548   48540   \n",
      "1539  2024-05-07 21:00:00+00:00  1.07543  1.07576  1.07350  1.07485   41408   \n",
      "1540  2024-05-08 21:00:00+00:00  1.07500  1.07847  1.07240  1.07817   46525   \n",
      "1541  2024-05-09 21:00:00+00:00  1.07824  1.07902  1.07604  1.07692   38828   \n",
      "\n",
      "      Complete  open_to_high  open_to_low  open_to_close  high_to_low  \n",
      "0         True       0.00855      0.00000        0.00395      0.00855  \n",
      "1         True       0.00355      0.00444        0.00215      0.00355  \n",
      "2         True       0.00830      0.00005        0.00615      0.00830  \n",
      "3         True       0.00647      0.00025        0.00238      0.00647  \n",
      "4         True       0.00090      0.00744       -0.00324      0.00090  \n",
      "...        ...           ...          ...            ...          ...  \n",
      "1537      True       0.00267      0.00090        0.00060      0.00267  \n",
      "1538      True       0.00182      0.00212       -0.00144      0.00182  \n",
      "1539      True       0.00033      0.00193       -0.00058      0.00033  \n",
      "1540      True       0.00347      0.00260        0.00317      0.00347  \n",
      "1541     False       0.00078      0.00220       -0.00132      0.00078  \n",
      "\n",
      "[1542 rows x 11 columns]\n"
     ]
    }
   ],
   "source": [
    "# create new columns... open_to_high, open_to_low, open_to_close, high_to_low\n",
    "raw[\"open_to_high\"] = raw[\"High\"] - raw[\"Open\"]\n",
    "raw[\"open_to_low\"] = raw[\"Open\"] - raw[\"Low\"]\n",
    "raw[\"open_to_close\"] = raw[\"Close\"] - raw[\"Open\"]\n",
    "raw[\"high_to_low\"] = raw[\"High\"] - raw[\"Open\"]\n",
    "\n",
    "print(raw)\n"
   ]
  },
  {
   "cell_type": "code",
   "execution_count": 4,
   "metadata": {},
   "outputs": [
    {
     "name": "stdout",
     "output_type": "stream",
     "text": [
      "                           Time     Open     High      Low    Close  Volume  \\\n",
      "0     2018-06-03 21:00:00+00:00  1.16591  1.17446  1.16591  1.16986   54201   \n",
      "1     2018-06-04 21:00:00+00:00  1.16969  1.17324  1.16525  1.17184   60668   \n",
      "2     2018-06-05 21:00:00+00:00  1.17129  1.17959  1.17124  1.17744   57923   \n",
      "3     2018-06-06 21:00:00+00:00  1.17752  1.18399  1.17727  1.17990   62212   \n",
      "4     2018-06-07 21:00:00+00:00  1.18014  1.18104  1.17270  1.17690   57780   \n",
      "...                         ...      ...      ...      ...      ...     ...   \n",
      "1537  2024-05-05 21:00:00+00:00  1.07642  1.07909  1.07552  1.07702   43391   \n",
      "1538  2024-05-06 21:00:00+00:00  1.07692  1.07874  1.07480  1.07548   48540   \n",
      "1539  2024-05-07 21:00:00+00:00  1.07543  1.07576  1.07350  1.07485   41408   \n",
      "1540  2024-05-08 21:00:00+00:00  1.07500  1.07847  1.07240  1.07817   46525   \n",
      "1541  2024-05-09 21:00:00+00:00  1.07824  1.07902  1.07604  1.07692   38828   \n",
      "\n",
      "      Complete  open_to_high  open_to_low  open_to_close  high_to_low  \\\n",
      "0         True       0.00855      0.00000        0.00395      0.00855   \n",
      "1         True       0.00355      0.00444        0.00215      0.00355   \n",
      "2         True       0.00830      0.00005        0.00615      0.00830   \n",
      "3         True       0.00647      0.00025        0.00238      0.00647   \n",
      "4         True       0.00090      0.00744       -0.00324      0.00090   \n",
      "...        ...           ...          ...            ...          ...   \n",
      "1537      True       0.00267      0.00090        0.00060      0.00267   \n",
      "1538      True       0.00182      0.00212       -0.00144      0.00182   \n",
      "1539      True       0.00033      0.00193       -0.00058      0.00033   \n",
      "1540      True       0.00347      0.00260        0.00317      0.00347   \n",
      "1541     False       0.00078      0.00220       -0.00132      0.00078   \n",
      "\n",
      "           Days  \n",
      "0        Sunday  \n",
      "1        Monday  \n",
      "2       Tuesday  \n",
      "3     Wednesday  \n",
      "4      Thursday  \n",
      "...         ...  \n",
      "1537     Sunday  \n",
      "1538     Monday  \n",
      "1539    Tuesday  \n",
      "1540  Wednesday  \n",
      "1541   Thursday  \n",
      "\n",
      "[1542 rows x 12 columns]\n"
     ]
    }
   ],
   "source": [
    "# create a new column with the number representation of the day of the week\n",
    "\n",
    "from datetime import datetime\n",
    "# YYYY-MM-DD HH:mm:ss+ms:ms\n",
    "\n",
    "my_days = []\n",
    "\n",
    "# strip all data from the time column on the right side of the +\n",
    "\n",
    "\n",
    "for i in raw[\"Time\"]:\n",
    "    i, j = i.split(\"+\")\n",
    "    i = datetime.strptime(i, \"%Y-%m-%d %H:%M:%S\")\n",
    "    \n",
    "    #i = i.strftime(\"YYYYMMDD HH:mm:ss (%Y%m%d %H:%M:%S)\")\n",
    "    i = i.strftime(\"%A\")\n",
    "    my_days.append(i)\n",
    "    \n",
    "raw[\"Days\"] = my_days\n",
    "\n",
    "print(raw)\n",
    "\n",
    "\n"
   ]
  },
  {
   "cell_type": "code",
   "execution_count": 5,
   "metadata": {},
   "outputs": [
    {
     "name": "stdout",
     "output_type": "stream",
     "text": [
      "1542\n",
      "1542\n",
      "Sunday 307\n",
      "Monday 308\n",
      "Tuesday 308\n",
      "Wednesday 310\n",
      "Thursday 308\n",
      "Friday 1\n",
      "Saturday 0\n"
     ]
    }
   ],
   "source": [
    "# create 7 datasets for each day of the week\n",
    "data_sunday = raw[raw[\"Days\"] == \"Sunday\"]\n",
    "data_monday = raw[raw[\"Days\"] == \"Monday\"]\n",
    "data_tuesday = raw[raw[\"Days\"] == \"Tuesday\"]\n",
    "data_wednesday = raw[raw[\"Days\"] == \"Wednesday\"]\n",
    "data_thursday = raw[raw[\"Days\"] == \"Thursday\"]\n",
    "data_friday = raw[raw[\"Days\"] == \"Friday\"]\n",
    "data_saturday = raw[raw[\"Days\"] == \"Saturday\"]\n",
    "\n",
    "\n",
    "length_of_days_data = len(data_sunday) + len(data_monday) +len(data_tuesday) + len(data_wednesday) + len(data_thursday) + len(data_friday) + len(data_saturday)\n",
    "\n",
    "\n",
    "# intergrity check that all data has been transfered in the correct numbers\n",
    "print(len(raw))\n",
    "print(length_of_days_data)\n",
    "\n",
    "# the weekend  should have no entries, sunday has a little\n",
    "print(\"Sunday\" + \" \"  +str(len(data_sunday)))\n",
    "print(\"Monday\" + \" \" + str(len(data_monday)))\n",
    "print(\"Tuesday\" + \" \" +str(len(data_tuesday)))\n",
    "print(\"Wednesday\" + \" \" + str(len(data_wednesday)))\n",
    "print(\"Thursday\" + \" \" + str(len(data_thursday)))\n",
    "print(\"Friday\" + \" \" + str(len(data_friday)))\n",
    "print(\"Saturday\" + \" \" + str(len(data_saturday)))\n",
    "\n"
   ]
  },
  {
   "cell_type": "code",
   "execution_count": 6,
   "metadata": {},
   "outputs": [
    {
     "name": "stdout",
     "output_type": "stream",
     "text": [
      "                           Time     Open     High      Low    Close  Volume  \\\n",
      "0     2018-06-03 21:00:00+00:00  1.16591  1.17446  1.16591  1.16986   54201   \n",
      "5     2018-06-10 21:00:00+00:00  1.17752  1.18204  1.17710  1.17845   43072   \n",
      "10    2018-06-17 21:00:00+00:00  1.15884  1.16246  1.15654  1.16232   43908   \n",
      "15    2018-06-24 21:00:00+00:00  1.16647  1.17134  1.16284  1.17037   65830   \n",
      "20    2018-07-01 21:00:00+00:00  1.16803  1.16918  1.15914  1.16392   56859   \n",
      "...                         ...      ...      ...      ...      ...     ...   \n",
      "1517  2024-04-07 21:00:00+00:00  1.08383  1.08621  1.08209  1.08592   55742   \n",
      "1522  2024-04-14 21:00:00+00:00  1.06372  1.06653  1.06203  1.06248   78711   \n",
      "1527  2024-04-21 21:00:00+00:00  1.06535  1.06708  1.06240  1.06538   55822   \n",
      "1532  2024-04-28 21:00:00+00:00  1.06938  1.07338  1.06902  1.07200   81579   \n",
      "1537  2024-05-05 21:00:00+00:00  1.07642  1.07909  1.07552  1.07702   43391   \n",
      "\n",
      "      Complete  open_to_high  open_to_low  open_to_close  high_to_low    Days  \n",
      "0         True       0.00855      0.00000        0.00395      0.00855  Sunday  \n",
      "5         True       0.00452      0.00042        0.00093      0.00452  Sunday  \n",
      "10        True       0.00362      0.00230        0.00348      0.00362  Sunday  \n",
      "15        True       0.00487      0.00363        0.00390      0.00487  Sunday  \n",
      "20        True       0.00115      0.00889       -0.00411      0.00115  Sunday  \n",
      "...        ...           ...          ...            ...          ...     ...  \n",
      "1517      True       0.00238      0.00174        0.00209      0.00238  Sunday  \n",
      "1522      True       0.00281      0.00169       -0.00124      0.00281  Sunday  \n",
      "1527      True       0.00173      0.00295        0.00003      0.00173  Sunday  \n",
      "1532      True       0.00400      0.00036        0.00262      0.00400  Sunday  \n",
      "1537      True       0.00267      0.00090        0.00060      0.00267  Sunday  \n",
      "\n",
      "[307 rows x 12 columns]\n"
     ]
    }
   ],
   "source": [
    "print(data_sunday)"
   ]
  },
  {
   "cell_type": "code",
   "execution_count": 7,
   "metadata": {},
   "outputs": [
    {
     "name": "stdout",
     "output_type": "stream",
     "text": [
      "0.003814974059662777\n",
      "0.0037622892347600485\n",
      "-5.477302204928375e-05\n",
      "0.003814974059662777\n"
     ]
    }
   ],
   "source": [
    "# calculate the mean for each of the distances on the new columns created for each day\n",
    "\n",
    "mean_o_h = raw[\"open_to_high\"].mean()\n",
    "mean_o_l = raw[\"open_to_low\"].mean()\n",
    "mean_o_c = raw[\"open_to_close\"].mean()\n",
    "mean_h_l = raw[\"high_to_low\"].mean()\n",
    "\n",
    "print(mean_o_h)\n",
    "print(mean_o_l)\n",
    "print(mean_o_c)\n",
    "print(mean_h_l)\n",
    "\n",
    "# open_to close mean is giving a strange reading. split the data into positive(=>0) and negitive(<0) values\n",
    "# mean values given from the split will be used depending on buy or sell action IF the means are vastly differing\n",
    "\n",
    " \n",
    "\n"
   ]
  },
  {
   "cell_type": "code",
   "execution_count": null,
   "metadata": {},
   "outputs": [],
   "source": [
    "# give a table of monday to friday and look at the data to find possible stop loss and take profit levels\n",
    "\n"
   ]
  },
  {
   "cell_type": "code",
   "execution_count": null,
   "metadata": {},
   "outputs": [],
   "source": [
    "# What are the insights/answers that I can take away from this analysis?\n",
    "\n"
   ]
  },
  {
   "cell_type": "code",
   "execution_count": null,
   "metadata": {},
   "outputs": [],
   "source": []
  },
  {
   "cell_type": "code",
   "execution_count": null,
   "metadata": {},
   "outputs": [],
   "source": []
  }
 ],
 "metadata": {
  "kernelspec": {
   "display_name": "Python 3",
   "language": "python",
   "name": "python3"
  },
  "language_info": {
   "codemirror_mode": {
    "name": "ipython",
    "version": 3
   },
   "file_extension": ".py",
   "mimetype": "text/x-python",
   "name": "python",
   "nbconvert_exporter": "python",
   "pygments_lexer": "ipython3",
   "version": "3.10.0"
  }
 },
 "nbformat": 4,
 "nbformat_minor": 2
}
